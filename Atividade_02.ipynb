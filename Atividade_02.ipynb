{
  "nbformat": 4,
  "nbformat_minor": 0,
  "metadata": {
    "colab": {
      "provenance": [],
      "toc_visible": true,
      "authorship_tag": "ABX9TyMtylEqITNjokx0DOP0hTME",
      "include_colab_link": true
    },
    "kernelspec": {
      "name": "python3",
      "display_name": "Python 3"
    },
    "language_info": {
      "name": "python"
    }
  },
  "cells": [
    {
      "cell_type": "markdown",
      "metadata": {
        "id": "view-in-github",
        "colab_type": "text"
      },
      "source": [
        "<a href=\"https://colab.research.google.com/github/KesavaS2/avanti-bootcamp-ml/blob/main/Atividade_02.ipynb\" target=\"_parent\"><img src=\"https://colab.research.google.com/assets/colab-badge.svg\" alt=\"Open In Colab\"/></a>"
      ]
    },
    {
      "cell_type": "markdown",
      "source": [
        "# **ATIVIDADE 02**"
      ],
      "metadata": {
        "id": "SeGfH7Cggm7z"
      }
    },
    {
      "cell_type": "markdown",
      "source": [
        "### **1. Escreva uma função que receba uma lista de números e retorne outra lista com os números ímpares.**"
      ],
      "metadata": {
        "id": "WFfmydHqorBy"
      }
    },
    {
      "cell_type": "code",
      "source": [
        "# Filtrando Números Ímpares\n",
        "\n",
        "def filtrar_impares(lista):\n",
        "    return [num for num in lista if num % 2 != 0]\n",
        "\n",
        "lista = [1, 2, 3, 4, 5, 6, 7, 8, 9, 10]\n",
        "resultado = filtrar_impares(lista)\n",
        "print(resultado)"
      ],
      "metadata": {
        "colab": {
          "base_uri": "https://localhost:8080/"
        },
        "id": "h58alLxLgx5K",
        "outputId": "4a2f505b-a495-4628-deb9-4f81627a837e"
      },
      "execution_count": 3,
      "outputs": [
        {
          "output_type": "stream",
          "name": "stdout",
          "text": [
            "[1, 3, 5, 7, 9]\n"
          ]
        }
      ]
    },
    {
      "cell_type": "markdown",
      "source": [
        "### **2. Escreva uma função que receba uma lista de números e retorne outra lista com os números primos presentes.**"
      ],
      "metadata": {
        "id": "-L_egFVVo5P2"
      }
    },
    {
      "cell_type": "code",
      "source": [
        "# Filtrando Números Primos\n",
        "\n",
        "def filtrar_primos(lista):\n",
        "    def eh_primo(num):\n",
        "        if num < 2:\n",
        "            return False\n",
        "        for i in range(2, int(num ** 0.5) + 1):\n",
        "            if num % i == 0:\n",
        "                return False\n",
        "        return True\n",
        "\n",
        "    return [num for num in lista if eh_primo(num)]\n",
        "\n",
        "lista = [1, 2, 3, 4, 5, 6, 7, 8, 9, 10, 11, 12, 13, 14, 15, 16, 17, 18, 19, 20, 21, 22, 23, 24]\n",
        "resultado_primos = filtrar_primos(lista)\n",
        "print(resultado_primos)"
      ],
      "metadata": {
        "colab": {
          "base_uri": "https://localhost:8080/"
        },
        "id": "5pWR8bMuh5QT",
        "outputId": "fc2e4e0e-9159-4e37-a5a8-b50b7a96d0c3"
      },
      "execution_count": 4,
      "outputs": [
        {
          "output_type": "stream",
          "name": "stdout",
          "text": [
            "[2, 3, 5, 7, 11, 13, 17, 19, 23]\n"
          ]
        }
      ]
    },
    {
      "cell_type": "markdown",
      "source": [
        "### **3. Escreva uma função que receba duas listas e retorne outra lista com os elementos que estão presentes em apenas uma das listas.**"
      ],
      "metadata": {
        "id": "PENUVcQmpI4y"
      }
    },
    {
      "cell_type": "code",
      "source": [
        "# Elementos Únicos entre Duas Listas\n",
        "\n",
        "def elementos_unicos(lista1, lista2):\n",
        "    return list(set(lista1).symmetric_difference(set(lista2)))\n",
        "\n",
        "lista1 = [10, 20, 30, 40, 50, 80, 90]\n",
        "lista2 = [30, 40, 50, 60, 70, 90, 100]\n",
        "resultado_unicos = elementos_unicos(lista1, lista2)\n",
        "print(resultado_unicos)"
      ],
      "metadata": {
        "colab": {
          "base_uri": "https://localhost:8080/"
        },
        "id": "Mct6LtxAiSNq",
        "outputId": "14a604da-0f9c-42b8-a2f1-96d51e26bbfd"
      },
      "execution_count": 5,
      "outputs": [
        {
          "output_type": "stream",
          "name": "stdout",
          "text": [
            "[70, 10, 80, 20, 100, 60]\n"
          ]
        }
      ]
    },
    {
      "cell_type": "markdown",
      "source": [
        "### **4. Dada uma lista de números inteiros, escreva uma função para encontrar o segundo maior valor na lista.**"
      ],
      "metadata": {
        "id": "-ZrMhGxApQwH"
      }
    },
    {
      "cell_type": "code",
      "source": [
        "# Encontrando o segundo maior valor em uma lista de números inteiros\n",
        "\n",
        "def segundo_maior(lista):\n",
        "    # Removendo valores duplicados e ordenando a lista em ordem decrescente\n",
        "    lista_unica = list(set(lista))\n",
        "    lista_unica.sort(reverse=True)\n",
        "\n",
        "    # Retornando o segundo maior valor\n",
        "    if len(lista_unica) >= 2:\n",
        "        return lista_unica[1]\n",
        "    else:\n",
        "        return None\n",
        "\n",
        "numeros = [10, 20, 4, 45, 99, 20, 45, 99]\n",
        "resultado = segundo_maior(numeros)\n",
        "print(f\"O segundo maior valor na lista é: {resultado}\")"
      ],
      "metadata": {
        "colab": {
          "base_uri": "https://localhost:8080/"
        },
        "id": "0VzEFbf5jBIw",
        "outputId": "98d9a8d2-ddaf-462d-b4f4-975a696656d9"
      },
      "execution_count": 6,
      "outputs": [
        {
          "output_type": "stream",
          "name": "stdout",
          "text": [
            "O segundo maior valor na lista é: 45\n"
          ]
        }
      ]
    },
    {
      "cell_type": "markdown",
      "source": [
        "### **5. Crie uma função que receba uma lista de tuplas, cada uma contendo o nome e a idade de uma pessoa, e retorne a lista ordenada pelo nome das pessoas em ordem alfabética.**"
      ],
      "metadata": {
        "id": "RQl7x9IBpX1k"
      }
    },
    {
      "cell_type": "code",
      "source": [
        "# Ordenando uma lista de tuplas pelo nome\n",
        "\n",
        "def ordenar_por_nome(lista_tuplas):\n",
        "    # Ordenando a lista de tuplas pelo primeiro elemento (nome)\n",
        "    lista_ordenada = sorted(lista_tuplas, key=lambda pessoa: pessoa[0])\n",
        "    return lista_ordenada\n",
        "\n",
        "# Nomes e idades:\n",
        "pessoas = [\n",
        "    (\"Laura\", 30),\n",
        "    (\"Joaquim\", 25),\n",
        "    (\"Fernanda\", 40),\n",
        "    (\"Ricardo\", 22),\n",
        "    (\"Sofia\", 27),\n",
        "    (\"Gustavo\", 35),\n",
        "    (\"Mariana\", 29),\n",
        "    (\"Bruno\", 33),\n",
        "    (\"Tatiane\", 31)\n",
        "]\n",
        "\n",
        "resultado = ordenar_por_nome(pessoas)\n",
        "print(\"Lista ordenada pelo nome:\", resultado)"
      ],
      "metadata": {
        "colab": {
          "base_uri": "https://localhost:8080/"
        },
        "id": "mkHNLuIqjq4K",
        "outputId": "d39c2f52-ba9b-44db-c7b6-6f32edebe315"
      },
      "execution_count": 7,
      "outputs": [
        {
          "output_type": "stream",
          "name": "stdout",
          "text": [
            "Lista ordenada pelo nome: [('Bruno', 33), ('Fernanda', 40), ('Gustavo', 35), ('Joaquim', 25), ('Laura', 30), ('Mariana', 29), ('Ricardo', 22), ('Sofia', 27), ('Tatiane', 31)]\n"
          ]
        }
      ]
    },
    {
      "cell_type": "markdown",
      "source": [
        "### **6. Observe os espaços sublinhados e complete o código.**\n",
        "\n",
        "import__________.pyplot as plt\n",
        "\n",
        "import numpy as np\n",
        "\n",
        "fig, axs = plt.subplots(ncols=2, nrows=2, figsize=(5.5, 3.5),\n",
        "                       \n",
        "                       layout=\"constrained\")\n",
        "\n",
        "for___in range(2):\n",
        "     \n",
        "     for___in range(2):\n",
        "          \n",
        "          axs[row, col].annotate(f'axs[{row}, {col}]', (0.5, 0.5),\n",
        "                                \n",
        "                                transform=axs[row, col].transAxes,\n",
        "                                ha='center', va='center', ________=18,\n",
        "                                color='darkgrey')\n",
        "fig.suptitle('__.subplots()')"
      ],
      "metadata": {
        "id": "hgwmyGSPprw6"
      }
    },
    {
      "cell_type": "code",
      "source": [
        "# Criação de Subplots\n",
        "\n",
        "import matplotlib.pyplot as plt\n",
        "import numpy as np\n",
        "\n",
        "fig, axs = plt.subplots(ncols=2, nrows=2, figsize=(5.5, 3.5), layout=\"constrained\")\n",
        "\n",
        "for row in range(2):\n",
        "    for col in range(2):\n",
        "        axs[row, col].annotate(f'axs[{row}, {col}]', (0.5, 0.5),\n",
        "                               transform=axs[row, col].transAxes,\n",
        "                               ha='center', va='center', fontsize=18,\n",
        "                               color='darkgrey')\n",
        "fig.suptitle (plt.subplots())"
      ],
      "metadata": {
        "colab": {
          "base_uri": "https://localhost:8080/",
          "height": 813
        },
        "id": "5TajG5SpkR47",
        "outputId": "dc0a9dae-23ea-40ae-df60-a79d6472207e"
      },
      "execution_count": 13,
      "outputs": [
        {
          "output_type": "execute_result",
          "data": {
            "text/plain": [
              "Text(0.5, 0.98, '(<Figure size 640x480 with 1 Axes>, <Axes: >)')"
            ]
          },
          "metadata": {},
          "execution_count": 13
        },
        {
          "output_type": "display_data",
          "data": {
            "text/plain": [
              "<Figure size 550x350 with 4 Axes>"
            ],
            "image/png": "[encoded data removed]"
          },
          "metadata": {}
        },
        {
          "output_type": "display_data",
          "data": {
            "text/plain": [
              "<Figure size 640x480 with 1 Axes>"
            ],
            "image/png": "[encoded data removed]"
          },
          "metadata": {}
        }
      ]
    },
    {
      "cell_type": "markdown",
      "source": [
        "### **7. Observe os espaços sublinhados e complete o código.**\n",
        "import numpy as np\n",
        "\n",
        "import__________as mpl\n",
        "\n",
        "import__________.______as plt\n",
        "\n",
        "x = np.________(-2 * np.pi, 2 * np.pi, 100)\n",
        "\n",
        "y = np.____(x)\n",
        "\n",
        "__,__= plt.subplots()\n",
        "\n",
        "ax.____(_, _)"
      ],
      "metadata": {
        "id": "8SJCrfDaq59K"
      }
    },
    {
      "cell_type": "code",
      "source": [
        "# Gráfico da Função Seno com Matplotlib e NumPy\n",
        "\n",
        "import numpy as np\n",
        "import matplotlib as mpl\n",
        "import matplotlib.pyplot  as plt\n",
        "\n",
        "x = np.linspace(-2 * np.pi, 2 * np.pi, 100)\n",
        "y = np.sin(x)\n",
        "\n",
        "fig, ax = plt.subplots()\n",
        "ax.plot(x, y)"
      ],
      "metadata": {
        "colab": {
          "base_uri": "https://localhost:8080/",
          "height": 447
        },
        "id": "BEX4Md9_lolA",
        "outputId": "91c7a25c-3dd0-40f2-ccfc-8d3e4690bc4e"
      },
      "execution_count": 14,
      "outputs": [
        {
          "output_type": "execute_result",
          "data": {
            "text/plain": [
              "[<matplotlib.lines.Line2D at 0x7baea4a34220>]"
            ]
          },
          "metadata": {},
          "execution_count": 14
        },
        {
          "output_type": "display_data",
          "data": {
            "text/plain": [
              "<Figure size 640x480 with 1 Axes>"
            ],
            "image/png": "[encoded data removed]"
          },
          "metadata": {}
        }
      ]
    },
    {
      "cell_type": "markdown",
      "source": [
        "### **8. Utilizando pandas, como realizar a leitura de um arquivo CSV em um DataFrame e exibir as primeiras linhas?**"
      ],
      "metadata": {
        "id": "wQseythMrzqW"
      }
    },
    {
      "cell_type": "code",
      "source": [
        "# Importando arquivo\n",
        "\n",
        "import pandas as pd\n",
        "\n",
        "# Carregamento do Conjunto de Dados\n",
        "\n",
        "df = pd.read_csv(\"https://raw.githubusercontent.com/atlantico-academy/datasets/main/titanic.csv\")\n",
        "print(df.head())"
      ],
      "metadata": {
        "colab": {
          "base_uri": "https://localhost:8080/"
        },
        "id": "zlmYCFdPmGP6",
        "outputId": "e46272f7-9cac-43dc-cca9-5b548ccbac4d"
      },
      "execution_count": 16,
      "outputs": [
        {
          "output_type": "stream",
          "name": "stdout",
          "text": [
            "   survived  pclass     sex   age  sibsp  parch     fare embarked  class  \\\n",
            "0         0       3    male  22.0      1      0   7.2500        S  Third   \n",
            "1         1       1  female  38.0      1      0  71.2833        C  First   \n",
            "2         1       3  female  26.0      0      0   7.9250        S  Third   \n",
            "3         1       1  female  35.0      1      0  53.1000        S  First   \n",
            "4         0       3    male  35.0      0      0   8.0500        S  Third   \n",
            "\n",
            "     who  adult_male deck  embark_town alive  alone  \n",
            "0    man        True  NaN  Southampton    no  False  \n",
            "1  woman       False    C    Cherbourg   yes  False  \n",
            "2  woman       False  NaN  Southampton   yes   True  \n",
            "3  woman       False    C  Southampton   yes  False  \n",
            "4    man        True  NaN  Southampton    no   True  \n"
          ]
        }
      ]
    },
    {
      "cell_type": "markdown",
      "source": [
        "### **9. Utilizando pandas, como selecionar uma coluna específica e filtrar linhas em um “DataFrame” com base em uma condição?**"
      ],
      "metadata": {
        "id": "ZXEcPkzer7MT"
      }
    },
    {
      "cell_type": "code",
      "source": [
        "# Seleção de Coluna e Filtragem de Linhas em um DataFrame com Pandas\n",
        "\n",
        "import pandas as pd\n",
        "\n",
        "# Carregamento do Conjunto de Dados\n",
        "df = pd.read_csv(\"https://raw.githubusercontent.com/atlantico-academy/datasets/main/titanic.csv\")\n",
        "print(\"Primeiras linhas do DataFrame:\")\n",
        "print(df.head())\n",
        "\n",
        "# Selecionando a coluna 'Survived' e filtrando as linhas onde 'Survived' é igual a 1\n",
        "sobreviventes = df[df['survived'] == 1]\n",
        "\n",
        "# Exibindo as primeiras linhas do DataFrame filtrado\n",
        "print(\"\\nSobreviventes do Titanic:\")\n",
        "print(sobreviventes.head())"
      ],
      "metadata": {
        "colab": {
          "base_uri": "https://localhost:8080/"
        },
        "id": "NbYj0RMDnBKE",
        "outputId": "c3998ef8-8f5b-4de5-9f97-f479bb57fe08"
      },
      "execution_count": 18,
      "outputs": [
        {
          "output_type": "stream",
          "name": "stdout",
          "text": [
            "Primeiras linhas do DataFrame:\n",
            "   survived  pclass     sex   age  sibsp  parch     fare embarked  class  \\\n",
            "0         0       3    male  22.0      1      0   7.2500        S  Third   \n",
            "1         1       1  female  38.0      1      0  71.2833        C  First   \n",
            "2         1       3  female  26.0      0      0   7.9250        S  Third   \n",
            "3         1       1  female  35.0      1      0  53.1000        S  First   \n",
            "4         0       3    male  35.0      0      0   8.0500        S  Third   \n",
            "\n",
            "     who  adult_male deck  embark_town alive  alone  \n",
            "0    man        True  NaN  Southampton    no  False  \n",
            "1  woman       False    C    Cherbourg   yes  False  \n",
            "2  woman       False  NaN  Southampton   yes   True  \n",
            "3  woman       False    C  Southampton   yes  False  \n",
            "4    man        True  NaN  Southampton    no   True  \n",
            "\n",
            "Sobreviventes do Titanic:\n",
            "   survived  pclass     sex   age  sibsp  parch     fare embarked   class  \\\n",
            "1         1       1  female  38.0      1      0  71.2833        C   First   \n",
            "2         1       3  female  26.0      0      0   7.9250        S   Third   \n",
            "3         1       1  female  35.0      1      0  53.1000        S   First   \n",
            "8         1       3  female  27.0      0      2  11.1333        S   Third   \n",
            "9         1       2  female  14.0      1      0  30.0708        C  Second   \n",
            "\n",
            "     who  adult_male deck  embark_town alive  alone  \n",
            "1  woman       False    C    Cherbourg   yes  False  \n",
            "2  woman       False  NaN  Southampton   yes   True  \n",
            "3  woman       False    C  Southampton   yes  False  \n",
            "8  woman       False  NaN  Southampton   yes  False  \n",
            "9  child       False  NaN    Cherbourg   yes  False  \n"
          ]
        }
      ]
    },
    {
      "cell_type": "markdown",
      "source": [
        "### **10. Utilizando pandas, como selecionar uma coluna específica e filtrar linhas em um “DataFrame” com base em uma condição?**"
      ],
      "metadata": {
        "id": "7BOJmGEvsFGu"
      }
    },
    {
      "cell_type": "code",
      "source": [
        "import pandas as pd\n",
        "\n",
        "# Carregamento do Conjunto de Dados\n",
        "df = pd.read_csv(\"https://raw.githubusercontent.com/atlantico-academy/datasets/main/titanic.csv\")\n",
        "print(\"Primeiras linhas do DataFrame:\")\n",
        "print(df.head())\n",
        "\n",
        "# Verificando valores ausentes\n",
        "print(\"\\nVerificando valores ausentes:\")\n",
        "print(df.isna().sum())\n",
        "\n",
        "# Removendo linhas com valores ausentes\n",
        "df_sem_nan = df.dropna()\n",
        "print(\"\\nDataFrame após remover linhas com NaN:\")\n",
        "print(df_sem_nan.head())\n",
        "\n",
        "# Preenchendo valores ausentes na coluna 'Age' com a média\n",
        "df['age'].fillna(df['age'].mean(), inplace=True)\n",
        "print(\"\\nDataFrame após preencher valores ausentes na coluna 'Age':\")\n",
        "print(df.head())\n",
        "\n",
        "# Preenchendo valores ausentes na coluna 'Fare' com 0\n",
        "df['fare'].fillna(0, inplace=True)\n",
        "print(\"\\nDataFrame após preencher valores ausentes na coluna 'Fare' com 0:\")\n",
        "print(df.head())"
      ],
      "metadata": {
        "colab": {
          "base_uri": "https://localhost:8080/"
        },
        "id": "ia-fZeAinzgJ",
        "outputId": "25e24679-e911-463a-b684-96dad1ae3757"
      },
      "execution_count": 20,
      "outputs": [
        {
          "output_type": "stream",
          "name": "stdout",
          "text": [
            "Primeiras linhas do DataFrame:\n",
            "   survived  pclass     sex   age  sibsp  parch     fare embarked  class  \\\n",
            "0         0       3    male  22.0      1      0   7.2500        S  Third   \n",
            "1         1       1  female  38.0      1      0  71.2833        C  First   \n",
            "2         1       3  female  26.0      0      0   7.9250        S  Third   \n",
            "3         1       1  female  35.0      1      0  53.1000        S  First   \n",
            "4         0       3    male  35.0      0      0   8.0500        S  Third   \n",
            "\n",
            "     who  adult_male deck  embark_town alive  alone  \n",
            "0    man        True  NaN  Southampton    no  False  \n",
            "1  woman       False    C    Cherbourg   yes  False  \n",
            "2  woman       False  NaN  Southampton   yes   True  \n",
            "3  woman       False    C  Southampton   yes  False  \n",
            "4    man        True  NaN  Southampton    no   True  \n",
            "\n",
            "Verificando valores ausentes:\n",
            "survived         0\n",
            "pclass           0\n",
            "sex              0\n",
            "age            177\n",
            "sibsp            0\n",
            "parch            0\n",
            "fare             0\n",
            "embarked         2\n",
            "class            0\n",
            "who              0\n",
            "adult_male       0\n",
            "deck           688\n",
            "embark_town      2\n",
            "alive            0\n",
            "alone            0\n",
            "dtype: int64\n",
            "\n",
            "DataFrame após remover linhas com NaN:\n",
            "    survived  pclass     sex   age  sibsp  parch     fare embarked  class  \\\n",
            "1          1       1  female  38.0      1      0  71.2833        C  First   \n",
            "3          1       1  female  35.0      1      0  53.1000        S  First   \n",
            "6          0       1    male  54.0      0      0  51.8625        S  First   \n",
            "10         1       3  female   4.0      1      1  16.7000        S  Third   \n",
            "11         1       1  female  58.0      0      0  26.5500        S  First   \n",
            "\n",
            "      who  adult_male deck  embark_town alive  alone  \n",
            "1   woman       False    C    Cherbourg   yes  False  \n",
            "3   woman       False    C  Southampton   yes  False  \n",
            "6     man        True    E  Southampton    no   True  \n",
            "10  child       False    G  Southampton   yes  False  \n",
            "11  woman       False    C  Southampton   yes   True  \n",
            "\n",
            "DataFrame após preencher valores ausentes na coluna 'Age':\n",
            "   survived  pclass     sex   age  sibsp  parch     fare embarked  class  \\\n",
            "0         0       3    male  22.0      1      0   7.2500        S  Third   \n",
            "1         1       1  female  38.0      1      0  71.2833        C  First   \n",
            "2         1       3  female  26.0      0      0   7.9250        S  Third   \n",
            "3         1       1  female  35.0      1      0  53.1000        S  First   \n",
            "4         0       3    male  35.0      0      0   8.0500        S  Third   \n",
            "\n",
            "     who  adult_male deck  embark_town alive  alone  \n",
            "0    man        True  NaN  Southampton    no  False  \n",
            "1  woman       False    C    Cherbourg   yes  False  \n",
            "2  woman       False  NaN  Southampton   yes   True  \n",
            "3  woman       False    C  Southampton   yes  False  \n",
            "4    man        True  NaN  Southampton    no   True  \n",
            "\n",
            "DataFrame após preencher valores ausentes na coluna 'Fare' com 0:\n",
            "   survived  pclass     sex   age  sibsp  parch     fare embarked  class  \\\n",
            "0         0       3    male  22.0      1      0   7.2500        S  Third   \n",
            "1         1       1  female  38.0      1      0  71.2833        C  First   \n",
            "2         1       3  female  26.0      0      0   7.9250        S  Third   \n",
            "3         1       1  female  35.0      1      0  53.1000        S  First   \n",
            "4         0       3    male  35.0      0      0   8.0500        S  Third   \n",
            "\n",
            "     who  adult_male deck  embark_town alive  alone  \n",
            "0    man        True  NaN  Southampton    no  False  \n",
            "1  woman       False    C    Cherbourg   yes  False  \n",
            "2  woman       False  NaN  Southampton   yes   True  \n",
            "3  woman       False    C  Southampton   yes  False  \n",
            "4    man        True  NaN  Southampton    no   True  \n"
          ]
        },
        {
          "output_type": "stream",
          "name": "stderr",
          "text": [
            "<ipython-input-20-8ec87690c763>:18: FutureWarning: A value is trying to be set on a copy of a DataFrame or Series through chained assignment using an inplace method.\n",
            "The behavior will change in pandas 3.0. This inplace method will never work because the intermediate object on which we are setting values always behaves as a copy.\n",
            "\n",
            "For example, when doing 'df[col].method(value, inplace=True)', try using 'df.method({col: value}, inplace=True)' or df[col] = df[col].method(value) instead, to perform the operation inplace on the original object.\n",
            "\n",
            "\n",
            "  df['age'].fillna(df['age'].mean(), inplace=True)\n",
            "<ipython-input-20-8ec87690c763>:23: FutureWarning: A value is trying to be set on a copy of a DataFrame or Series through chained assignment using an inplace method.\n",
            "The behavior will change in pandas 3.0. This inplace method will never work because the intermediate object on which we are setting values always behaves as a copy.\n",
            "\n",
            "For example, when doing 'df[col].method(value, inplace=True)', try using 'df.method({col: value}, inplace=True)' or df[col] = df[col].method(value) instead, to perform the operation inplace on the original object.\n",
            "\n",
            "\n",
            "  df['fare'].fillna(0, inplace=True)\n"
          ]
        }
      ]
    }
  ]
}